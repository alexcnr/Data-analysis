{
 "cells": [
  {
   "cell_type": "code",
   "execution_count": 9,
   "metadata": {},
   "outputs": [
    {
     "name": "stdout",
     "output_type": "stream",
     "text": [
      "76.0\n",
      "88.0\n",
      "91.0\n",
      "86.0\n",
      "80.0\n",
      "76.0\n",
      "72.0\n"
     ]
    }
   ],
   "source": [
    "import pandas as pd\n",
    "import sqlite3\n",
    "\n",
    "conn = sqlite3.connect('tempdb.sqlite') #выборка 365 элементов в БД\n",
    "query = \"SELECT humidity FROM Results WHERE humidity > 70 AND humidity < 95;\"\n",
    "#выбираем из таблицы влажность в интересующем диапазоне\n",
    "\n",
    "df = pd.read_sql_query(query,conn)\n",
    "\n",
    "for i in df['humidity']:\n",
    "    print(i)"
   ]
  },
  {
   "cell_type": "code",
   "execution_count": 25,
   "metadata": {},
   "outputs": [
    {
     "name": "stdout",
     "output_type": "stream",
     "text": [
      "   temp_C  temp_K  temp_F  humidity\n",
      "0    27.6  300.75   81.68      76.0\n",
      "1    27.7  300.85   81.86      88.0\n",
      "2    36.2  309.35   97.16      91.0\n",
      "3    36.0  309.15   96.80      86.0\n",
      "4    35.9  309.05   96.62      80.0\n",
      "5    35.9  309.05   96.62      76.0\n",
      "6    35.7  308.85   96.26      72.0\n"
     ]
    }
   ],
   "source": [
    "query2 = \"SELECT * FROM Results WHERE humidity > 70 AND humidity < 95;\"\n",
    "#выберем все данные таблицы при которых влажность в необходимом диапазоне\n",
    "df2 = pd.read_sql_query(query2,conn)\n",
    "print(df2)\n"
   ]
  },
  {
   "cell_type": "code",
   "execution_count": 27,
   "metadata": {},
   "outputs": [
    {
     "data": {
      "text/html": [
       "<div>\n",
       "<style scoped>\n",
       "    .dataframe tbody tr th:only-of-type {\n",
       "        vertical-align: middle;\n",
       "    }\n",
       "\n",
       "    .dataframe tbody tr th {\n",
       "        vertical-align: top;\n",
       "    }\n",
       "\n",
       "    .dataframe thead th {\n",
       "        text-align: right;\n",
       "    }\n",
       "</style>\n",
       "<table border=\"1\" class=\"dataframe\">\n",
       "  <thead>\n",
       "    <tr style=\"text-align: right;\">\n",
       "      <th></th>\n",
       "      <th>temp_C</th>\n",
       "      <th>temp_K</th>\n",
       "      <th>temp_F</th>\n",
       "      <th>humidity</th>\n",
       "    </tr>\n",
       "  </thead>\n",
       "  <tbody>\n",
       "    <tr>\n",
       "      <th>0</th>\n",
       "      <td>27.6</td>\n",
       "      <td>300.75</td>\n",
       "      <td>81.68</td>\n",
       "      <td>76.0</td>\n",
       "    </tr>\n",
       "    <tr>\n",
       "      <th>1</th>\n",
       "      <td>27.7</td>\n",
       "      <td>300.85</td>\n",
       "      <td>81.86</td>\n",
       "      <td>88.0</td>\n",
       "    </tr>\n",
       "    <tr>\n",
       "      <th>2</th>\n",
       "      <td>36.2</td>\n",
       "      <td>309.35</td>\n",
       "      <td>97.16</td>\n",
       "      <td>91.0</td>\n",
       "    </tr>\n",
       "  </tbody>\n",
       "</table>\n",
       "</div>"
      ],
      "text/plain": [
       "   temp_C  temp_K  temp_F  humidity\n",
       "0    27.6  300.75   81.68      76.0\n",
       "1    27.7  300.85   81.86      88.0\n",
       "2    36.2  309.35   97.16      91.0"
      ]
     },
     "execution_count": 27,
     "metadata": {},
     "output_type": "execute_result"
    }
   ],
   "source": [
    "df2.head(3)"
   ]
  },
  {
   "cell_type": "code",
   "execution_count": 28,
   "metadata": {},
   "outputs": [
    {
     "name": "stdout",
     "output_type": "stream",
     "text": [
      "   temp_C  humidity\n",
      "0    27.6      76.0\n",
      "1    27.7      88.0\n",
      "2    36.2      91.0\n",
      "3    36.0      86.0\n",
      "4    35.9      80.0\n",
      "5    35.9      76.0\n",
      "6    35.7      72.0\n"
     ]
    }
   ],
   "source": [
    "query3 = \"SELECT temp_C, humidity FROM Results WHERE humidity > 70 AND humidity < 95;\"\n",
    "#выберем все данные temp_C при которых влажность в необходимом диапазоне\n",
    "df3 = pd.read_sql_query(query3,conn)\n",
    "print(df3)"
   ]
  },
  {
   "cell_type": "code",
   "execution_count": 50,
   "metadata": {},
   "outputs": [
    {
     "data": {
      "text/plain": [
       "0    78.0\n",
       "1    90.0\n",
       "2    93.0\n",
       "3    88.0\n",
       "4    82.0\n",
       "5    78.0\n",
       "6    74.0\n",
       "Name: humidity, dtype: float64"
      ]
     },
     "execution_count": 50,
     "metadata": {},
     "output_type": "execute_result"
    }
   ],
   "source": [
    "hums = df3['humidity']\n",
    "hums"
   ]
  },
  {
   "cell_type": "code",
   "execution_count": 51,
   "metadata": {},
   "outputs": [
    {
     "data": {
      "text/plain": [
       "0    80.0\n",
       "1    92.0\n",
       "2    95.0\n",
       "3    90.0\n",
       "4    84.0\n",
       "5    80.0\n",
       "6    76.0\n",
       "Name: humidity, dtype: float64"
      ]
     },
     "execution_count": 51,
     "metadata": {},
     "output_type": "execute_result"
    }
   ],
   "source": [
    "hums+=2 #увеличим на 2 все значения влажности в данной серии, обращаясь к ним по индексу\n",
    "hums"
   ]
  },
  {
   "cell_type": "code",
   "execution_count": 52,
   "metadata": {},
   "outputs": [
    {
     "name": "stdout",
     "output_type": "stream",
     "text": [
      "<class 'pandas.core.series.Series'>\n"
     ]
    }
   ],
   "source": [
    "print(type(hums))"
   ]
  },
  {
   "cell_type": "code",
   "execution_count": 40,
   "metadata": {},
   "outputs": [
    {
     "data": {
      "text/html": [
       "<div>\n",
       "<style scoped>\n",
       "    .dataframe tbody tr th:only-of-type {\n",
       "        vertical-align: middle;\n",
       "    }\n",
       "\n",
       "    .dataframe tbody tr th {\n",
       "        vertical-align: top;\n",
       "    }\n",
       "\n",
       "    .dataframe thead th {\n",
       "        text-align: right;\n",
       "    }\n",
       "</style>\n",
       "<table border=\"1\" class=\"dataframe\">\n",
       "  <thead>\n",
       "    <tr style=\"text-align: right;\">\n",
       "      <th></th>\n",
       "      <th>temp_C</th>\n",
       "      <th>humidity</th>\n",
       "    </tr>\n",
       "  </thead>\n",
       "  <tbody>\n",
       "    <tr>\n",
       "      <th>0</th>\n",
       "      <td>29.6</td>\n",
       "      <td>76.0</td>\n",
       "    </tr>\n",
       "    <tr>\n",
       "      <th>1</th>\n",
       "      <td>29.7</td>\n",
       "      <td>88.0</td>\n",
       "    </tr>\n",
       "    <tr>\n",
       "      <th>2</th>\n",
       "      <td>38.2</td>\n",
       "      <td>91.0</td>\n",
       "    </tr>\n",
       "    <tr>\n",
       "      <th>3</th>\n",
       "      <td>38.0</td>\n",
       "      <td>86.0</td>\n",
       "    </tr>\n",
       "    <tr>\n",
       "      <th>4</th>\n",
       "      <td>37.9</td>\n",
       "      <td>80.0</td>\n",
       "    </tr>\n",
       "    <tr>\n",
       "      <th>5</th>\n",
       "      <td>37.9</td>\n",
       "      <td>76.0</td>\n",
       "    </tr>\n",
       "  </tbody>\n",
       "</table>\n",
       "</div>"
      ],
      "text/plain": [
       "   temp_C  humidity\n",
       "0    29.6      76.0\n",
       "1    29.7      88.0\n",
       "2    38.2      91.0\n",
       "3    38.0      86.0\n",
       "4    37.9      80.0\n",
       "5    37.9      76.0"
      ]
     },
     "execution_count": 40,
     "metadata": {},
     "output_type": "execute_result"
    }
   ],
   "source": [
    "df3.loc[:5] #метод .loc о индексам первые 5 строк\n",
    "#loc  -   это индексный метод, означающий «получить позицию метки в этом индексе»"
   ]
  },
  {
   "cell_type": "code",
   "execution_count": 140,
   "metadata": {},
   "outputs": [
    {
     "data": {
      "text/plain": [
       "temp_C       36.20\n",
       "temp_K      309.35\n",
       "temp_F       97.16\n",
       "humidity     91.00\n",
       "Name: 2, dtype: float64"
      ]
     },
     "execution_count": 140,
     "metadata": {},
     "output_type": "execute_result"
    }
   ],
   "source": [
    "df2.loc[2]  #вызов строки по индексу (другого дата фрейма!!!!!!)"
   ]
  },
  {
   "cell_type": "code",
   "execution_count": 141,
   "metadata": {},
   "outputs": [
    {
     "data": {
      "text/plain": [
       "Index(['temp_C', 'temp_K', 'temp_F', 'humidity'], dtype='object')"
      ]
     },
     "execution_count": 141,
     "metadata": {},
     "output_type": "execute_result"
    }
   ],
   "source": [
    "df2.columns"
   ]
  },
  {
   "cell_type": "code",
   "execution_count": 142,
   "metadata": {},
   "outputs": [
    {
     "data": {
      "text/plain": [
       "91.0"
      ]
     },
     "execution_count": 142,
     "metadata": {},
     "output_type": "execute_result"
    }
   ],
   "source": [
    "df2.loc[2, \"humidity\"] #влажность во второй строке\n"
   ]
  },
  {
   "cell_type": "markdown",
   "metadata": {},
   "source": [
    "#iloc работает на основе целочисленного позиционирования (порядковый номер строки, даже ели она имеет буквенный индекс). \n",
    "#Поэтому, неважно, что будем делать с индексами строк\n",
    "#КОММЕНТЫ В ПАНДАХ ПЕРЕД ILOC НЕ ПИСАТЬ!!!!!!!!!!!!!!!!!!!\n",
    "\n",
    "#\tdf.loc[row_indexer,column_indexer]\n",
    "# s.loc[indexer]\n"
   ]
  },
  {
   "cell_type": "code",
   "execution_count": 143,
   "metadata": {},
   "outputs": [
    {
     "data": {
      "text/plain": [
       "temp_C       27.60\n",
       "temp_K      300.75\n",
       "temp_F       81.68\n",
       "humidity     76.00\n",
       "Name: 0, dtype: float64"
      ]
     },
     "execution_count": 143,
     "metadata": {},
     "output_type": "execute_result"
    }
   ],
   "source": [
    " df2.iloc[0] #1 строка по индексу"
   ]
  },
  {
   "cell_type": "code",
   "execution_count": 144,
   "metadata": {},
   "outputs": [
    {
     "data": {
      "text/html": [
       "<div>\n",
       "<style scoped>\n",
       "    .dataframe tbody tr th:only-of-type {\n",
       "        vertical-align: middle;\n",
       "    }\n",
       "\n",
       "    .dataframe tbody tr th {\n",
       "        vertical-align: top;\n",
       "    }\n",
       "\n",
       "    .dataframe thead th {\n",
       "        text-align: right;\n",
       "    }\n",
       "</style>\n",
       "<table border=\"1\" class=\"dataframe\">\n",
       "  <thead>\n",
       "    <tr style=\"text-align: right;\">\n",
       "      <th></th>\n",
       "      <th>temp_C</th>\n",
       "      <th>temp_K</th>\n",
       "      <th>temp_F</th>\n",
       "      <th>humidity</th>\n",
       "    </tr>\n",
       "  </thead>\n",
       "  <tbody>\n",
       "    <tr>\n",
       "      <th>5</th>\n",
       "      <td>35.9</td>\n",
       "      <td>309.05</td>\n",
       "      <td>96.62</td>\n",
       "      <td>76.0</td>\n",
       "    </tr>\n",
       "    <tr>\n",
       "      <th>6</th>\n",
       "      <td>35.7</td>\n",
       "      <td>308.85</td>\n",
       "      <td>96.26</td>\n",
       "      <td>72.0</td>\n",
       "    </tr>\n",
       "  </tbody>\n",
       "</table>\n",
       "</div>"
      ],
      "text/plain": [
       "   temp_C  temp_K  temp_F  humidity\n",
       "5    35.9  309.05   96.62      76.0\n",
       "6    35.7  308.85   96.26      72.0"
      ]
     },
     "execution_count": 144,
     "metadata": {},
     "output_type": "execute_result"
    }
   ],
   "source": [
    " df2.iloc[-2:]  #последние 2 строки\n"
   ]
  },
  {
   "cell_type": "code",
   "execution_count": 145,
   "metadata": {},
   "outputs": [
    {
     "data": {
      "text/plain": [
       "0    81.68\n",
       "1    81.86\n",
       "2    97.16\n",
       "3    96.80\n",
       "4    96.62\n",
       "5    96.62\n",
       "6    96.26\n",
       "Name: temp_F, dtype: float64"
      ]
     },
     "execution_count": 145,
     "metadata": {},
     "output_type": "execute_result"
    }
   ],
   "source": [
    "df2.iloc[:, 2] # вызов столбца по индексу"
   ]
  },
  {
   "cell_type": "code",
   "execution_count": 146,
   "metadata": {},
   "outputs": [
    {
     "data": {
      "text/html": [
       "<div>\n",
       "<style scoped>\n",
       "    .dataframe tbody tr th:only-of-type {\n",
       "        vertical-align: middle;\n",
       "    }\n",
       "\n",
       "    .dataframe tbody tr th {\n",
       "        vertical-align: top;\n",
       "    }\n",
       "\n",
       "    .dataframe thead th {\n",
       "        text-align: right;\n",
       "    }\n",
       "</style>\n",
       "<table border=\"1\" class=\"dataframe\">\n",
       "  <thead>\n",
       "    <tr style=\"text-align: right;\">\n",
       "      <th></th>\n",
       "      <th>temp_C</th>\n",
       "      <th>temp_K</th>\n",
       "      <th>temp_F</th>\n",
       "      <th>humidity</th>\n",
       "    </tr>\n",
       "  </thead>\n",
       "  <tbody>\n",
       "    <tr>\n",
       "      <th>0</th>\n",
       "      <td>27.6</td>\n",
       "      <td>300.75</td>\n",
       "      <td>81.68</td>\n",
       "      <td>76.0</td>\n",
       "    </tr>\n",
       "    <tr>\n",
       "      <th>1</th>\n",
       "      <td>27.7</td>\n",
       "      <td>300.85</td>\n",
       "      <td>81.86</td>\n",
       "      <td>88.0</td>\n",
       "    </tr>\n",
       "    <tr>\n",
       "      <th>2</th>\n",
       "      <td>36.2</td>\n",
       "      <td>309.35</td>\n",
       "      <td>97.16</td>\n",
       "      <td>91.0</td>\n",
       "    </tr>\n",
       "    <tr>\n",
       "      <th>3</th>\n",
       "      <td>36.0</td>\n",
       "      <td>309.15</td>\n",
       "      <td>96.80</td>\n",
       "      <td>86.0</td>\n",
       "    </tr>\n",
       "  </tbody>\n",
       "</table>\n",
       "</div>"
      ],
      "text/plain": [
       "   temp_C  temp_K  temp_F  humidity\n",
       "0    27.6  300.75   81.68      76.0\n",
       "1    27.7  300.85   81.86      88.0\n",
       "2    36.2  309.35   97.16      91.0\n",
       "3    36.0  309.15   96.80      86.0"
      ]
     },
     "execution_count": 146,
     "metadata": {},
     "output_type": "execute_result"
    }
   ],
   "source": [
    " df2.iloc[:4, :4] # выборка по пересечению"
   ]
  },
  {
   "cell_type": "code",
   "execution_count": 147,
   "metadata": {},
   "outputs": [
    {
     "data": {
      "text/html": [
       "<div>\n",
       "<style scoped>\n",
       "    .dataframe tbody tr th:only-of-type {\n",
       "        vertical-align: middle;\n",
       "    }\n",
       "\n",
       "    .dataframe tbody tr th {\n",
       "        vertical-align: top;\n",
       "    }\n",
       "\n",
       "    .dataframe thead th {\n",
       "        text-align: right;\n",
       "    }\n",
       "</style>\n",
       "<table border=\"1\" class=\"dataframe\">\n",
       "  <thead>\n",
       "    <tr style=\"text-align: right;\">\n",
       "      <th></th>\n",
       "      <th>0</th>\n",
       "      <th>1</th>\n",
       "      <th>2</th>\n",
       "      <th>3</th>\n",
       "      <th>4</th>\n",
       "      <th>5</th>\n",
       "      <th>6</th>\n",
       "    </tr>\n",
       "  </thead>\n",
       "  <tbody>\n",
       "    <tr>\n",
       "      <th>temp_C</th>\n",
       "      <td>27.60</td>\n",
       "      <td>27.70</td>\n",
       "      <td>36.20</td>\n",
       "      <td>36.00</td>\n",
       "      <td>35.90</td>\n",
       "      <td>35.90</td>\n",
       "      <td>35.70</td>\n",
       "    </tr>\n",
       "    <tr>\n",
       "      <th>temp_K</th>\n",
       "      <td>300.75</td>\n",
       "      <td>300.85</td>\n",
       "      <td>309.35</td>\n",
       "      <td>309.15</td>\n",
       "      <td>309.05</td>\n",
       "      <td>309.05</td>\n",
       "      <td>308.85</td>\n",
       "    </tr>\n",
       "    <tr>\n",
       "      <th>temp_F</th>\n",
       "      <td>81.68</td>\n",
       "      <td>81.86</td>\n",
       "      <td>97.16</td>\n",
       "      <td>96.80</td>\n",
       "      <td>96.62</td>\n",
       "      <td>96.62</td>\n",
       "      <td>96.26</td>\n",
       "    </tr>\n",
       "    <tr>\n",
       "      <th>humidity</th>\n",
       "      <td>76.00</td>\n",
       "      <td>88.00</td>\n",
       "      <td>91.00</td>\n",
       "      <td>86.00</td>\n",
       "      <td>80.00</td>\n",
       "      <td>76.00</td>\n",
       "      <td>72.00</td>\n",
       "    </tr>\n",
       "  </tbody>\n",
       "</table>\n",
       "</div>"
      ],
      "text/plain": [
       "               0       1       2       3       4       5       6\n",
       "temp_C     27.60   27.70   36.20   36.00   35.90   35.90   35.70\n",
       "temp_K    300.75  300.85  309.35  309.15  309.05  309.05  308.85\n",
       "temp_F     81.68   81.86   97.16   96.80   96.62   96.62   96.26\n",
       "humidity   76.00   88.00   91.00   86.00   80.00   76.00   72.00"
      ]
     },
     "execution_count": 147,
     "metadata": {},
     "output_type": "execute_result"
    }
   ],
   "source": [
    "df4 = df2.T  #транспонирование индексов\n",
    "df4"
   ]
  },
  {
   "cell_type": "code",
   "execution_count": 148,
   "metadata": {},
   "outputs": [
    {
     "data": {
      "text/plain": [
       "0    True\n",
       "1    True\n",
       "2    True\n",
       "3    True\n",
       "4    True\n",
       "5    True\n",
       "6    True\n",
       "Name: temp_C, dtype: bool"
      ]
     },
     "execution_count": 148,
     "metadata": {},
     "output_type": "execute_result"
    }
   ],
   "source": [
    "df2['temp_C'] > 0 #соответствие True / False"
   ]
  },
  {
   "cell_type": "code",
   "execution_count": 149,
   "metadata": {},
   "outputs": [
    {
     "data": {
      "text/plain": [
       "0    False\n",
       "1    False\n",
       "2    False\n",
       "3    False\n",
       "4    False\n",
       "5    False\n",
       "6    False\n",
       "Name: temp_C, dtype: bool"
      ]
     },
     "execution_count": 149,
     "metadata": {},
     "output_type": "execute_result"
    }
   ],
   "source": [
    "df3['temp_C'] < 0"
   ]
  },
  {
   "cell_type": "code",
   "execution_count": 150,
   "metadata": {},
   "outputs": [
    {
     "data": {
      "text/html": [
       "<div>\n",
       "<style scoped>\n",
       "    .dataframe tbody tr th:only-of-type {\n",
       "        vertical-align: middle;\n",
       "    }\n",
       "\n",
       "    .dataframe tbody tr th {\n",
       "        vertical-align: top;\n",
       "    }\n",
       "\n",
       "    .dataframe thead th {\n",
       "        text-align: right;\n",
       "    }\n",
       "</style>\n",
       "<table border=\"1\" class=\"dataframe\">\n",
       "  <thead>\n",
       "    <tr style=\"text-align: right;\">\n",
       "      <th></th>\n",
       "      <th>temp_C</th>\n",
       "      <th>temp_K</th>\n",
       "      <th>temp_F</th>\n",
       "      <th>humidity</th>\n",
       "    </tr>\n",
       "  </thead>\n",
       "  <tbody>\n",
       "    <tr>\n",
       "      <th>0</th>\n",
       "      <td>NaN</td>\n",
       "      <td>NaN</td>\n",
       "      <td>NaN</td>\n",
       "      <td>NaN</td>\n",
       "    </tr>\n",
       "    <tr>\n",
       "      <th>1</th>\n",
       "      <td>NaN</td>\n",
       "      <td>NaN</td>\n",
       "      <td>NaN</td>\n",
       "      <td>NaN</td>\n",
       "    </tr>\n",
       "    <tr>\n",
       "      <th>2</th>\n",
       "      <td>36.2</td>\n",
       "      <td>309.35</td>\n",
       "      <td>97.16</td>\n",
       "      <td>91.0</td>\n",
       "    </tr>\n",
       "    <tr>\n",
       "      <th>3</th>\n",
       "      <td>36.0</td>\n",
       "      <td>309.15</td>\n",
       "      <td>96.80</td>\n",
       "      <td>86.0</td>\n",
       "    </tr>\n",
       "    <tr>\n",
       "      <th>4</th>\n",
       "      <td>35.9</td>\n",
       "      <td>309.05</td>\n",
       "      <td>96.62</td>\n",
       "      <td>80.0</td>\n",
       "    </tr>\n",
       "    <tr>\n",
       "      <th>5</th>\n",
       "      <td>35.9</td>\n",
       "      <td>309.05</td>\n",
       "      <td>96.62</td>\n",
       "      <td>76.0</td>\n",
       "    </tr>\n",
       "    <tr>\n",
       "      <th>6</th>\n",
       "      <td>35.7</td>\n",
       "      <td>308.85</td>\n",
       "      <td>96.26</td>\n",
       "      <td>72.0</td>\n",
       "    </tr>\n",
       "  </tbody>\n",
       "</table>\n",
       "</div>"
      ],
      "text/plain": [
       "   temp_C  temp_K  temp_F  humidity\n",
       "0     NaN     NaN     NaN       NaN\n",
       "1     NaN     NaN     NaN       NaN\n",
       "2    36.2  309.35   97.16      91.0\n",
       "3    36.0  309.15   96.80      86.0\n",
       "4    35.9  309.05   96.62      80.0\n",
       "5    35.9  309.05   96.62      76.0\n",
       "6    35.7  308.85   96.26      72.0"
      ]
     },
     "execution_count": 150,
     "metadata": {},
     "output_type": "execute_result"
    }
   ],
   "source": [
    "only_hot = df2.where(df2['temp_C'] > 30)\n",
    "#only_hot.head()\n",
    "only_hot"
   ]
  },
  {
   "cell_type": "code",
   "execution_count": 151,
   "metadata": {},
   "outputs": [
    {
     "name": "stdout",
     "output_type": "stream",
     "text": [
      "    temp_C  temp_K  temp_F  humidity\n",
      "0     27.4  300.55   81.32      49.0\n",
      "1     27.3  300.45   81.14      49.0\n",
      "2     27.3  300.45   81.14      49.0\n",
      "3     27.4  300.55   81.32      52.0\n",
      "4     27.4  300.55   81.32      58.0\n",
      "..     ...     ...     ...       ...\n",
      "59    32.3  305.45   90.14      44.0\n",
      "60    32.1  305.25   89.78      45.0\n",
      "61    32.1  305.25   89.78      45.0\n",
      "62    32.1  305.25   89.78      45.0\n",
      "63    32.0  305.15   89.60      45.0\n",
      "\n",
      "[64 rows x 4 columns]\n"
     ]
    }
   ],
   "source": [
    "query4 = \"SELECT * FROM Results WHERE humidity < 95;\"\n",
    "#выберем все данные таблицы при которых влажность в необходимом диапазоне, расширим диапазон\n",
    "df5 = pd.read_sql_query(query4,conn)\n",
    "print(df5)"
   ]
  },
  {
   "cell_type": "code",
   "execution_count": 152,
   "metadata": {},
   "outputs": [
    {
     "data": {
      "text/html": [
       "<div>\n",
       "<style scoped>\n",
       "    .dataframe tbody tr th:only-of-type {\n",
       "        vertical-align: middle;\n",
       "    }\n",
       "\n",
       "    .dataframe tbody tr th {\n",
       "        vertical-align: top;\n",
       "    }\n",
       "\n",
       "    .dataframe thead th {\n",
       "        text-align: right;\n",
       "    }\n",
       "</style>\n",
       "<table border=\"1\" class=\"dataframe\">\n",
       "  <thead>\n",
       "    <tr style=\"text-align: right;\">\n",
       "      <th></th>\n",
       "      <th>temp_C</th>\n",
       "      <th>temp_K</th>\n",
       "      <th>temp_F</th>\n",
       "      <th>humidity</th>\n",
       "    </tr>\n",
       "  </thead>\n",
       "  <tbody>\n",
       "    <tr>\n",
       "      <th>0</th>\n",
       "      <td>NaN</td>\n",
       "      <td>NaN</td>\n",
       "      <td>NaN</td>\n",
       "      <td>NaN</td>\n",
       "    </tr>\n",
       "    <tr>\n",
       "      <th>1</th>\n",
       "      <td>NaN</td>\n",
       "      <td>NaN</td>\n",
       "      <td>NaN</td>\n",
       "      <td>NaN</td>\n",
       "    </tr>\n",
       "    <tr>\n",
       "      <th>2</th>\n",
       "      <td>NaN</td>\n",
       "      <td>NaN</td>\n",
       "      <td>NaN</td>\n",
       "      <td>NaN</td>\n",
       "    </tr>\n",
       "    <tr>\n",
       "      <th>3</th>\n",
       "      <td>NaN</td>\n",
       "      <td>NaN</td>\n",
       "      <td>NaN</td>\n",
       "      <td>NaN</td>\n",
       "    </tr>\n",
       "    <tr>\n",
       "      <th>4</th>\n",
       "      <td>NaN</td>\n",
       "      <td>NaN</td>\n",
       "      <td>NaN</td>\n",
       "      <td>NaN</td>\n",
       "    </tr>\n",
       "    <tr>\n",
       "      <th>...</th>\n",
       "      <td>...</td>\n",
       "      <td>...</td>\n",
       "      <td>...</td>\n",
       "      <td>...</td>\n",
       "    </tr>\n",
       "    <tr>\n",
       "      <th>59</th>\n",
       "      <td>32.3</td>\n",
       "      <td>305.45</td>\n",
       "      <td>90.14</td>\n",
       "      <td>44.0</td>\n",
       "    </tr>\n",
       "    <tr>\n",
       "      <th>60</th>\n",
       "      <td>32.1</td>\n",
       "      <td>305.25</td>\n",
       "      <td>89.78</td>\n",
       "      <td>45.0</td>\n",
       "    </tr>\n",
       "    <tr>\n",
       "      <th>61</th>\n",
       "      <td>32.1</td>\n",
       "      <td>305.25</td>\n",
       "      <td>89.78</td>\n",
       "      <td>45.0</td>\n",
       "    </tr>\n",
       "    <tr>\n",
       "      <th>62</th>\n",
       "      <td>32.1</td>\n",
       "      <td>305.25</td>\n",
       "      <td>89.78</td>\n",
       "      <td>45.0</td>\n",
       "    </tr>\n",
       "    <tr>\n",
       "      <th>63</th>\n",
       "      <td>32.0</td>\n",
       "      <td>305.15</td>\n",
       "      <td>89.60</td>\n",
       "      <td>45.0</td>\n",
       "    </tr>\n",
       "  </tbody>\n",
       "</table>\n",
       "<p>64 rows × 4 columns</p>\n",
       "</div>"
      ],
      "text/plain": [
       "    temp_C  temp_K  temp_F  humidity\n",
       "0      NaN     NaN     NaN       NaN\n",
       "1      NaN     NaN     NaN       NaN\n",
       "2      NaN     NaN     NaN       NaN\n",
       "3      NaN     NaN     NaN       NaN\n",
       "4      NaN     NaN     NaN       NaN\n",
       "..     ...     ...     ...       ...\n",
       "59    32.3  305.45   90.14      44.0\n",
       "60    32.1  305.25   89.78      45.0\n",
       "61    32.1  305.25   89.78      45.0\n",
       "62    32.1  305.25   89.78      45.0\n",
       "63    32.0  305.15   89.60      45.0\n",
       "\n",
       "[64 rows x 4 columns]"
      ]
     },
     "execution_count": 152,
     "metadata": {},
     "output_type": "execute_result"
    }
   ],
   "source": [
    "only_hot2 = df5.where(df5['temp_C'] > 30)\n",
    "#only_hot.head()\n",
    "only_hot2"
   ]
  },
  {
   "cell_type": "code",
   "execution_count": 153,
   "metadata": {},
   "outputs": [
    {
     "data": {
      "text/plain": [
       "55"
      ]
     },
     "execution_count": 153,
     "metadata": {},
     "output_type": "execute_result"
    }
   ],
   "source": [
    "only_hot2['temp_C'].count()\n"
   ]
  },
  {
   "cell_type": "code",
   "execution_count": 154,
   "metadata": {},
   "outputs": [
    {
     "data": {
      "text/plain": [
       "64"
      ]
     },
     "execution_count": 154,
     "metadata": {},
     "output_type": "execute_result"
    }
   ],
   "source": [
    "df5['temp_C'].count()"
   ]
  },
  {
   "cell_type": "code",
   "execution_count": 155,
   "metadata": {},
   "outputs": [
    {
     "data": {
      "text/html": [
       "<div>\n",
       "<style scoped>\n",
       "    .dataframe tbody tr th:only-of-type {\n",
       "        vertical-align: middle;\n",
       "    }\n",
       "\n",
       "    .dataframe tbody tr th {\n",
       "        vertical-align: top;\n",
       "    }\n",
       "\n",
       "    .dataframe thead th {\n",
       "        text-align: right;\n",
       "    }\n",
       "</style>\n",
       "<table border=\"1\" class=\"dataframe\">\n",
       "  <thead>\n",
       "    <tr style=\"text-align: right;\">\n",
       "      <th></th>\n",
       "      <th>temp_C</th>\n",
       "      <th>temp_K</th>\n",
       "      <th>temp_F</th>\n",
       "      <th>humidity</th>\n",
       "    </tr>\n",
       "  </thead>\n",
       "  <tbody>\n",
       "    <tr>\n",
       "      <th>9</th>\n",
       "      <td>36.2</td>\n",
       "      <td>309.35</td>\n",
       "      <td>97.16</td>\n",
       "      <td>91.0</td>\n",
       "    </tr>\n",
       "    <tr>\n",
       "      <th>10</th>\n",
       "      <td>36.0</td>\n",
       "      <td>309.15</td>\n",
       "      <td>96.80</td>\n",
       "      <td>86.0</td>\n",
       "    </tr>\n",
       "    <tr>\n",
       "      <th>11</th>\n",
       "      <td>35.9</td>\n",
       "      <td>309.05</td>\n",
       "      <td>96.62</td>\n",
       "      <td>80.0</td>\n",
       "    </tr>\n",
       "    <tr>\n",
       "      <th>12</th>\n",
       "      <td>35.9</td>\n",
       "      <td>309.05</td>\n",
       "      <td>96.62</td>\n",
       "      <td>76.0</td>\n",
       "    </tr>\n",
       "    <tr>\n",
       "      <th>13</th>\n",
       "      <td>35.7</td>\n",
       "      <td>308.85</td>\n",
       "      <td>96.26</td>\n",
       "      <td>72.0</td>\n",
       "    </tr>\n",
       "  </tbody>\n",
       "</table>\n",
       "</div>"
      ],
      "text/plain": [
       "    temp_C  temp_K  temp_F  humidity\n",
       "9     36.2  309.35   97.16      91.0\n",
       "10    36.0  309.15   96.80      86.0\n",
       "11    35.9  309.05   96.62      80.0\n",
       "12    35.9  309.05   96.62      76.0\n",
       "13    35.7  308.85   96.26      72.0"
      ]
     },
     "execution_count": 155,
     "metadata": {},
     "output_type": "execute_result"
    }
   ],
   "source": [
    "only_hot_final = only_hot2.dropna()  #удаляем NAN  значения\n",
    "only_hot_final.head()"
   ]
  },
  {
   "cell_type": "code",
   "execution_count": 156,
   "metadata": {},
   "outputs": [
    {
     "data": {
      "text/plain": [
       "55"
      ]
     },
     "execution_count": 156,
     "metadata": {},
     "output_type": "execute_result"
    }
   ],
   "source": [
    "len(only_hot_final)"
   ]
  },
  {
   "cell_type": "code",
   "execution_count": 157,
   "metadata": {},
   "outputs": [
    {
     "data": {
      "text/plain": [
       "pandas.core.frame.DataFrame"
      ]
     },
     "execution_count": 157,
     "metadata": {},
     "output_type": "execute_result"
    }
   ],
   "source": [
    "type(only_hot_final)"
   ]
  },
  {
   "cell_type": "code",
   "execution_count": 158,
   "metadata": {},
   "outputs": [
    {
     "data": {
      "text/plain": [
       "array([36.2, 36. , 35.9, 35.7, 35.6, 35.5, 35.4, 35.3, 35.2, 35.1, 34.9,\n",
       "       34.8, 34.7, 34.5, 34.4, 34.3, 34.1, 33.9, 33.8, 33.7, 33.6, 33.4,\n",
       "       33.3, 33.2, 33.1, 33. , 32.9, 32.8, 32.7, 32.6, 32.4, 32.3, 32.1,\n",
       "       32. ])"
      ]
     },
     "execution_count": 158,
     "metadata": {},
     "output_type": "execute_result"
    }
   ],
   "source": [
    "only_hot_final['temp_C'].unique() #ТОЛЬКО УНИКАЛЫ, БЕЗ ПОВТОРОВ"
   ]
  },
  {
   "cell_type": "code",
   "execution_count": 159,
   "metadata": {},
   "outputs": [
    {
     "data": {
      "text/html": [
       "<div>\n",
       "<style scoped>\n",
       "    .dataframe tbody tr th:only-of-type {\n",
       "        vertical-align: middle;\n",
       "    }\n",
       "\n",
       "    .dataframe tbody tr th {\n",
       "        vertical-align: top;\n",
       "    }\n",
       "\n",
       "    .dataframe thead th {\n",
       "        text-align: right;\n",
       "    }\n",
       "</style>\n",
       "<table border=\"1\" class=\"dataframe\">\n",
       "  <thead>\n",
       "    <tr style=\"text-align: right;\">\n",
       "      <th></th>\n",
       "      <th>temp_C</th>\n",
       "      <th>temp_K</th>\n",
       "      <th>temp_F</th>\n",
       "      <th>humidity</th>\n",
       "    </tr>\n",
       "  </thead>\n",
       "  <tbody>\n",
       "    <tr>\n",
       "      <th>11</th>\n",
       "      <td>35.9</td>\n",
       "      <td>309.05</td>\n",
       "      <td>96.62</td>\n",
       "      <td>80.0</td>\n",
       "    </tr>\n",
       "    <tr>\n",
       "      <th>12</th>\n",
       "      <td>35.9</td>\n",
       "      <td>309.05</td>\n",
       "      <td>96.62</td>\n",
       "      <td>76.0</td>\n",
       "    </tr>\n",
       "  </tbody>\n",
       "</table>\n",
       "</div>"
      ],
      "text/plain": [
       "    temp_C  temp_K  temp_F  humidity\n",
       "11    35.9  309.05   96.62      80.0\n",
       "12    35.9  309.05   96.62      76.0"
      ]
     },
     "execution_count": 159,
     "metadata": {},
     "output_type": "execute_result"
    }
   ],
   "source": [
    "rez=only_hot_final[only_hot_final['temp_C'] == 35.9]\n",
    "rez.head()\n"
   ]
  },
  {
   "cell_type": "code",
   "execution_count": 164,
   "metadata": {},
   "outputs": [
    {
     "data": {
      "text/html": [
       "<div>\n",
       "<style scoped>\n",
       "    .dataframe tbody tr th:only-of-type {\n",
       "        vertical-align: middle;\n",
       "    }\n",
       "\n",
       "    .dataframe tbody tr th {\n",
       "        vertical-align: top;\n",
       "    }\n",
       "\n",
       "    .dataframe thead th {\n",
       "        text-align: right;\n",
       "    }\n",
       "</style>\n",
       "<table border=\"1\" class=\"dataframe\">\n",
       "  <thead>\n",
       "    <tr style=\"text-align: right;\">\n",
       "      <th></th>\n",
       "      <th>temp_C</th>\n",
       "      <th>temp_K</th>\n",
       "      <th>temp_F</th>\n",
       "      <th>humidity</th>\n",
       "    </tr>\n",
       "  </thead>\n",
       "  <tbody>\n",
       "    <tr>\n",
       "      <th>0</th>\n",
       "      <td>NaN</td>\n",
       "      <td>NaN</td>\n",
       "      <td>NaN</td>\n",
       "      <td>NaN</td>\n",
       "    </tr>\n",
       "    <tr>\n",
       "      <th>1</th>\n",
       "      <td>NaN</td>\n",
       "      <td>NaN</td>\n",
       "      <td>NaN</td>\n",
       "      <td>NaN</td>\n",
       "    </tr>\n",
       "    <tr>\n",
       "      <th>2</th>\n",
       "      <td>NaN</td>\n",
       "      <td>NaN</td>\n",
       "      <td>NaN</td>\n",
       "      <td>NaN</td>\n",
       "    </tr>\n",
       "    <tr>\n",
       "      <th>3</th>\n",
       "      <td>NaN</td>\n",
       "      <td>NaN</td>\n",
       "      <td>NaN</td>\n",
       "      <td>NaN</td>\n",
       "    </tr>\n",
       "    <tr>\n",
       "      <th>4</th>\n",
       "      <td>NaN</td>\n",
       "      <td>NaN</td>\n",
       "      <td>NaN</td>\n",
       "      <td>NaN</td>\n",
       "    </tr>\n",
       "    <tr>\n",
       "      <th>...</th>\n",
       "      <td>...</td>\n",
       "      <td>...</td>\n",
       "      <td>...</td>\n",
       "      <td>...</td>\n",
       "    </tr>\n",
       "    <tr>\n",
       "      <th>59</th>\n",
       "      <td>NaN</td>\n",
       "      <td>NaN</td>\n",
       "      <td>NaN</td>\n",
       "      <td>NaN</td>\n",
       "    </tr>\n",
       "    <tr>\n",
       "      <th>60</th>\n",
       "      <td>NaN</td>\n",
       "      <td>NaN</td>\n",
       "      <td>NaN</td>\n",
       "      <td>NaN</td>\n",
       "    </tr>\n",
       "    <tr>\n",
       "      <th>61</th>\n",
       "      <td>NaN</td>\n",
       "      <td>NaN</td>\n",
       "      <td>NaN</td>\n",
       "      <td>NaN</td>\n",
       "    </tr>\n",
       "    <tr>\n",
       "      <th>62</th>\n",
       "      <td>NaN</td>\n",
       "      <td>NaN</td>\n",
       "      <td>NaN</td>\n",
       "      <td>NaN</td>\n",
       "    </tr>\n",
       "    <tr>\n",
       "      <th>63</th>\n",
       "      <td>NaN</td>\n",
       "      <td>NaN</td>\n",
       "      <td>NaN</td>\n",
       "      <td>NaN</td>\n",
       "    </tr>\n",
       "  </tbody>\n",
       "</table>\n",
       "<p>64 rows × 4 columns</p>\n",
       "</div>"
      ],
      "text/plain": [
       "    temp_C  temp_K  temp_F  humidity\n",
       "0      NaN     NaN     NaN       NaN\n",
       "1      NaN     NaN     NaN       NaN\n",
       "2      NaN     NaN     NaN       NaN\n",
       "3      NaN     NaN     NaN       NaN\n",
       "4      NaN     NaN     NaN       NaN\n",
       "..     ...     ...     ...       ...\n",
       "59     NaN     NaN     NaN       NaN\n",
       "60     NaN     NaN     NaN       NaN\n",
       "61     NaN     NaN     NaN       NaN\n",
       "62     NaN     NaN     NaN       NaN\n",
       "63     NaN     NaN     NaN       NaN\n",
       "\n",
       "[64 rows x 4 columns]"
      ]
     },
     "execution_count": 164,
     "metadata": {},
     "output_type": "execute_result"
    }
   ],
   "source": [
    "#ВЫЧИСЛИМ ПРИ КАКОЙ ТЕМПЕРАТУРЕ БЫЛА МАКСИМАЛЬНАЯ ВЛАЖНОСТЬ В ДАННОЙ ВЫБОРКЕ\n",
    "only_hot3 = df5.where(df5['humidity'] > 90)\n",
    "only_hot3"
   ]
  },
  {
   "cell_type": "code",
   "execution_count": 166,
   "metadata": {},
   "outputs": [
    {
     "data": {
      "text/html": [
       "<div>\n",
       "<style scoped>\n",
       "    .dataframe tbody tr th:only-of-type {\n",
       "        vertical-align: middle;\n",
       "    }\n",
       "\n",
       "    .dataframe tbody tr th {\n",
       "        vertical-align: top;\n",
       "    }\n",
       "\n",
       "    .dataframe thead th {\n",
       "        text-align: right;\n",
       "    }\n",
       "</style>\n",
       "<table border=\"1\" class=\"dataframe\">\n",
       "  <thead>\n",
       "    <tr style=\"text-align: right;\">\n",
       "      <th></th>\n",
       "      <th>temp_C</th>\n",
       "      <th>temp_K</th>\n",
       "      <th>temp_F</th>\n",
       "      <th>humidity</th>\n",
       "    </tr>\n",
       "  </thead>\n",
       "  <tbody>\n",
       "    <tr>\n",
       "      <th>9</th>\n",
       "      <td>36.2</td>\n",
       "      <td>309.35</td>\n",
       "      <td>97.16</td>\n",
       "      <td>91.0</td>\n",
       "    </tr>\n",
       "  </tbody>\n",
       "</table>\n",
       "</div>"
      ],
      "text/plain": [
       "   temp_C  temp_K  temp_F  humidity\n",
       "9    36.2  309.35   97.16      91.0"
      ]
     },
     "execution_count": 166,
     "metadata": {},
     "output_type": "execute_result"
    }
   ],
   "source": [
    "only_hot3_final = only_hot3.dropna()  #удаляем NAN  значения\n",
    "only_hot3_final.head()"
   ]
  },
  {
   "cell_type": "code",
   "execution_count": 168,
   "metadata": {},
   "outputs": [
    {
     "data": {
      "text/html": [
       "<div>\n",
       "<style scoped>\n",
       "    .dataframe tbody tr th:only-of-type {\n",
       "        vertical-align: middle;\n",
       "    }\n",
       "\n",
       "    .dataframe tbody tr th {\n",
       "        vertical-align: top;\n",
       "    }\n",
       "\n",
       "    .dataframe thead th {\n",
       "        text-align: right;\n",
       "    }\n",
       "</style>\n",
       "<table border=\"1\" class=\"dataframe\">\n",
       "  <thead>\n",
       "    <tr style=\"text-align: right;\">\n",
       "      <th></th>\n",
       "      <th>temp_C</th>\n",
       "      <th>temp_K</th>\n",
       "      <th>temp_F</th>\n",
       "      <th>humidity</th>\n",
       "    </tr>\n",
       "  </thead>\n",
       "  <tbody>\n",
       "    <tr>\n",
       "      <th>0</th>\n",
       "      <td>27.4</td>\n",
       "      <td>300.55</td>\n",
       "      <td>81.32</td>\n",
       "      <td>49.0</td>\n",
       "    </tr>\n",
       "    <tr>\n",
       "      <th>1</th>\n",
       "      <td>27.3</td>\n",
       "      <td>300.45</td>\n",
       "      <td>81.14</td>\n",
       "      <td>49.0</td>\n",
       "    </tr>\n",
       "    <tr>\n",
       "      <th>2</th>\n",
       "      <td>27.3</td>\n",
       "      <td>300.45</td>\n",
       "      <td>81.14</td>\n",
       "      <td>49.0</td>\n",
       "    </tr>\n",
       "    <tr>\n",
       "      <th>3</th>\n",
       "      <td>27.4</td>\n",
       "      <td>300.55</td>\n",
       "      <td>81.32</td>\n",
       "      <td>52.0</td>\n",
       "    </tr>\n",
       "    <tr>\n",
       "      <th>4</th>\n",
       "      <td>27.4</td>\n",
       "      <td>300.55</td>\n",
       "      <td>81.32</td>\n",
       "      <td>58.0</td>\n",
       "    </tr>\n",
       "    <tr>\n",
       "      <th>...</th>\n",
       "      <td>...</td>\n",
       "      <td>...</td>\n",
       "      <td>...</td>\n",
       "      <td>...</td>\n",
       "    </tr>\n",
       "    <tr>\n",
       "      <th>360</th>\n",
       "      <td>32.3</td>\n",
       "      <td>305.45</td>\n",
       "      <td>90.14</td>\n",
       "      <td>44.0</td>\n",
       "    </tr>\n",
       "    <tr>\n",
       "      <th>361</th>\n",
       "      <td>32.1</td>\n",
       "      <td>305.25</td>\n",
       "      <td>89.78</td>\n",
       "      <td>45.0</td>\n",
       "    </tr>\n",
       "    <tr>\n",
       "      <th>362</th>\n",
       "      <td>32.1</td>\n",
       "      <td>305.25</td>\n",
       "      <td>89.78</td>\n",
       "      <td>45.0</td>\n",
       "    </tr>\n",
       "    <tr>\n",
       "      <th>363</th>\n",
       "      <td>32.1</td>\n",
       "      <td>305.25</td>\n",
       "      <td>89.78</td>\n",
       "      <td>45.0</td>\n",
       "    </tr>\n",
       "    <tr>\n",
       "      <th>364</th>\n",
       "      <td>32.0</td>\n",
       "      <td>305.15</td>\n",
       "      <td>89.60</td>\n",
       "      <td>45.0</td>\n",
       "    </tr>\n",
       "  </tbody>\n",
       "</table>\n",
       "<p>365 rows × 4 columns</p>\n",
       "</div>"
      ],
      "text/plain": [
       "     temp_C  temp_K  temp_F  humidity\n",
       "0      27.4  300.55   81.32      49.0\n",
       "1      27.3  300.45   81.14      49.0\n",
       "2      27.3  300.45   81.14      49.0\n",
       "3      27.4  300.55   81.32      52.0\n",
       "4      27.4  300.55   81.32      58.0\n",
       "..      ...     ...     ...       ...\n",
       "360    32.3  305.45   90.14      44.0\n",
       "361    32.1  305.25   89.78      45.0\n",
       "362    32.1  305.25   89.78      45.0\n",
       "363    32.1  305.25   89.78      45.0\n",
       "364    32.0  305.15   89.60      45.0\n",
       "\n",
       "[365 rows x 4 columns]"
      ]
     },
     "execution_count": 168,
     "metadata": {},
     "output_type": "execute_result"
    }
   ],
   "source": [
    "query5 = \"SELECT * FROM Results ;\"\n",
    "#выберем все данные таблицы при которых влажность в необходимом диапазоне\n",
    "df_all = pd.read_sql_query(query5,conn)\n",
    "df_all"
   ]
  },
  {
   "cell_type": "code",
   "execution_count": 181,
   "metadata": {},
   "outputs": [
    {
     "data": {
      "text/html": [
       "<div>\n",
       "<style scoped>\n",
       "    .dataframe tbody tr th:only-of-type {\n",
       "        vertical-align: middle;\n",
       "    }\n",
       "\n",
       "    .dataframe tbody tr th {\n",
       "        vertical-align: top;\n",
       "    }\n",
       "\n",
       "    .dataframe thead th {\n",
       "        text-align: right;\n",
       "    }\n",
       "</style>\n",
       "<table border=\"1\" class=\"dataframe\">\n",
       "  <thead>\n",
       "    <tr style=\"text-align: right;\">\n",
       "      <th></th>\n",
       "      <th>temp_C</th>\n",
       "      <th>temp_K</th>\n",
       "      <th>temp_F</th>\n",
       "      <th>humidity</th>\n",
       "    </tr>\n",
       "  </thead>\n",
       "  <tbody>\n",
       "    <tr>\n",
       "      <th>9</th>\n",
       "      <td>28.0</td>\n",
       "      <td>301.15</td>\n",
       "      <td>82.40</td>\n",
       "      <td>95.0</td>\n",
       "    </tr>\n",
       "    <tr>\n",
       "      <th>10</th>\n",
       "      <td>28.1</td>\n",
       "      <td>301.25</td>\n",
       "      <td>82.58</td>\n",
       "      <td>95.0</td>\n",
       "    </tr>\n",
       "    <tr>\n",
       "      <th>11</th>\n",
       "      <td>28.3</td>\n",
       "      <td>301.45</td>\n",
       "      <td>82.94</td>\n",
       "      <td>95.0</td>\n",
       "    </tr>\n",
       "    <tr>\n",
       "      <th>12</th>\n",
       "      <td>28.4</td>\n",
       "      <td>301.55</td>\n",
       "      <td>83.12</td>\n",
       "      <td>95.0</td>\n",
       "    </tr>\n",
       "    <tr>\n",
       "      <th>13</th>\n",
       "      <td>28.6</td>\n",
       "      <td>301.75</td>\n",
       "      <td>83.48</td>\n",
       "      <td>95.0</td>\n",
       "    </tr>\n",
       "  </tbody>\n",
       "</table>\n",
       "</div>"
      ],
      "text/plain": [
       "    temp_C  temp_K  temp_F  humidity\n",
       "9     28.0  301.15   82.40      95.0\n",
       "10    28.1  301.25   82.58      95.0\n",
       "11    28.3  301.45   82.94      95.0\n",
       "12    28.4  301.55   83.12      95.0\n",
       "13    28.6  301.75   83.48      95.0"
      ]
     },
     "execution_count": 181,
     "metadata": {},
     "output_type": "execute_result"
    }
   ],
   "source": [
    "#В ВСЕЙ БД МАКСИМАЛЬНАЯ ВЛАЖНОСТЬ\n",
    "top_hot = df_all.where(df_all['humidity'] > 94)\n",
    "top_hot_final = top_hot.dropna()  #удаляем NAN  значения\n",
    "top_hot_final.head()"
   ]
  },
  {
   "cell_type": "code",
   "execution_count": 182,
   "metadata": {},
   "outputs": [
    {
     "data": {
      "text/plain": [
       "301"
      ]
     },
     "execution_count": 182,
     "metadata": {},
     "output_type": "execute_result"
    }
   ],
   "source": [
    "len(top_hot_final)"
   ]
  },
  {
   "cell_type": "code",
   "execution_count": 191,
   "metadata": {},
   "outputs": [
    {
     "data": {
      "text/html": [
       "<div>\n",
       "<style scoped>\n",
       "    .dataframe tbody tr th:only-of-type {\n",
       "        vertical-align: middle;\n",
       "    }\n",
       "\n",
       "    .dataframe tbody tr th {\n",
       "        vertical-align: top;\n",
       "    }\n",
       "\n",
       "    .dataframe thead th {\n",
       "        text-align: right;\n",
       "    }\n",
       "</style>\n",
       "<table border=\"1\" class=\"dataframe\">\n",
       "  <thead>\n",
       "    <tr style=\"text-align: right;\">\n",
       "      <th></th>\n",
       "      <th>temp_C</th>\n",
       "      <th>temp_K</th>\n",
       "      <th>temp_F</th>\n",
       "      <th>humidity</th>\n",
       "    </tr>\n",
       "  </thead>\n",
       "  <tbody>\n",
       "    <tr>\n",
       "      <th>182</th>\n",
       "      <td>36.2</td>\n",
       "      <td>309.35</td>\n",
       "      <td>97.16</td>\n",
       "      <td>95.0</td>\n",
       "    </tr>\n",
       "    <tr>\n",
       "      <th>184</th>\n",
       "      <td>36.2</td>\n",
       "      <td>309.35</td>\n",
       "      <td>97.16</td>\n",
       "      <td>95.0</td>\n",
       "    </tr>\n",
       "    <tr>\n",
       "      <th>185</th>\n",
       "      <td>36.2</td>\n",
       "      <td>309.35</td>\n",
       "      <td>97.16</td>\n",
       "      <td>95.0</td>\n",
       "    </tr>\n",
       "    <tr>\n",
       "      <th>186</th>\n",
       "      <td>36.2</td>\n",
       "      <td>309.35</td>\n",
       "      <td>97.16</td>\n",
       "      <td>95.0</td>\n",
       "    </tr>\n",
       "    <tr>\n",
       "      <th>187</th>\n",
       "      <td>36.2</td>\n",
       "      <td>309.35</td>\n",
       "      <td>97.16</td>\n",
       "      <td>95.0</td>\n",
       "    </tr>\n",
       "  </tbody>\n",
       "</table>\n",
       "</div>"
      ],
      "text/plain": [
       "     temp_C  temp_K  temp_F  humidity\n",
       "182    36.2  309.35   97.16      95.0\n",
       "184    36.2  309.35   97.16      95.0\n",
       "185    36.2  309.35   97.16      95.0\n",
       "186    36.2  309.35   97.16      95.0\n",
       "187    36.2  309.35   97.16      95.0"
      ]
     },
     "execution_count": 191,
     "metadata": {},
     "output_type": "execute_result"
    }
   ],
   "source": [
    "#В ВСЕЙ БД КАКАЯ ВЛАЖНОСТь ПРИ ТЕМПЕРАТУРЕ В ДИАПАЗОНЕ > 36.1\n",
    "top_hum = df_all.where(df_all['temp_C'] > 36.1)\n",
    "top_hum_final = top_hum.dropna()  #удаляем NAN  значения\n",
    "top_hum_final.head()"
   ]
  },
  {
   "cell_type": "code",
   "execution_count": 192,
   "metadata": {},
   "outputs": [
    {
     "data": {
      "text/plain": [
       "128"
      ]
     },
     "execution_count": 192,
     "metadata": {},
     "output_type": "execute_result"
    }
   ],
   "source": [
    "len(top_hum_final)"
   ]
  },
  {
   "cell_type": "code",
   "execution_count": null,
   "metadata": {},
   "outputs": [],
   "source": []
  }
 ],
 "metadata": {
  "kernelspec": {
   "display_name": "Python 3",
   "language": "python",
   "name": "python3"
  },
  "language_info": {
   "codemirror_mode": {
    "name": "ipython",
    "version": 3
   },
   "file_extension": ".py",
   "mimetype": "text/x-python",
   "name": "python",
   "nbconvert_exporter": "python",
   "pygments_lexer": "ipython3",
   "version": "3.7.6"
  }
 },
 "nbformat": 4,
 "nbformat_minor": 4
}
